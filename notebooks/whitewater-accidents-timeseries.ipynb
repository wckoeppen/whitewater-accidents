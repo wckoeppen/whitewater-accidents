{
 "cells": [
  {
   "cell_type": "markdown",
   "metadata": {},
   "source": [
    "# Whitewater Accidents Time-Series\n",
    "\n",
    "## The database\n",
    "A static dataset was exported from the database on February 3, 2021. A fresh export can be gotten at this link:\n",
    "https://www.americanwhitewater.org/content/Accident/export-db/\n",
    "\n",
    "The export service passes back the following\n",
    "\n",
    "```\n",
    "- accident.zip\n",
    "    - tmp\n",
    "        - accidentGgcRaI.dir\n",
    "            - accidents.csv\n",
    "            - accidents_causes.csv\n",
    "            - accidents_factors.csv\n",
    "            - causes.csv\n",
    "            - factors.csv\n",
    "            - injuries.csv\n",
    "```\n",
    "\n",
    "Each labeled column is duplicated within a column with a number label. I.e., the `accident_date` column is duplicated in another column labeled `1`, column `revision` == column `29`, etc.\n",
    "\n",
    "Causes, factors, and injuries are all split out by lookup tables, and there can be multiple causes, factors, and injuries associated with each row."
   ]
  },
  {
   "cell_type": "code",
   "execution_count": 2,
   "metadata": {},
   "outputs": [],
   "source": [
    "import pandas as pd\n",
    "import numpy as np\n",
    "import matplotlib.pyplot as plt\n",
    "from datetime import datetime"
   ]
  },
  {
   "cell_type": "code",
   "execution_count": 3,
   "metadata": {},
   "outputs": [],
   "source": [
    "retrieval_date = datetime(2021,2,3)"
   ]
  },
  {
   "cell_type": "code",
   "execution_count": 4,
   "metadata": {},
   "outputs": [],
   "source": [
    "def save_png(figure, png_path):\n",
    "    \n",
    "    print(f'Saving PNG {png_path}')\n",
    "    figure.savefig(png_path, bbox_inches='tight', pad_inches=0.3, dpi=72, facecolor='w')\n",
    "    plt.close(figure) # comment out if you want outputs on the screen"
   ]
  },
  {
   "cell_type": "code",
   "execution_count": 43,
   "metadata": {},
   "outputs": [],
   "source": [
    "def remove_int_columns(_df:pd.DataFrame) -> pd.DataFrame:\n",
    "    \"\"\"A brute force approach to removing integer columns.\"\"\"\n",
    "    keep_list = []\n",
    "    for column in _df.columns:\n",
    "        try:\n",
    "            int(column)\n",
    "        except:\n",
    "            keep_list.append(column)\n",
    "            \n",
    "    return _df[keep_list]"
   ]
  },
  {
   "cell_type": "code",
   "execution_count": 44,
   "metadata": {},
   "outputs": [],
   "source": [
    "accident = remove_int_columns(pd.read_csv(\"../database/latest/accidents.csv\", index_col=\"id\"))\n",
    "accident_cause = remove_int_columns(pd.read_csv(\"../database/latest/accidents_causes.csv\", index_col=\"accident_id\"))\n",
    "accident_factor = remove_int_columns(pd.read_csv(\"../database/latest/accidents_factors.csv\", index_col=\"accident_id\"))\n",
    "accident_injury = remove_int_columns(pd.read_csv(\"../database/latest/accidents_injuries.csv\", index_col=\"accident_id\"))\n",
    "cause_lookup = remove_int_columns(pd.read_csv(\"../database/latest/causes.csv\", index_col=\"id\"))\n",
    "factor_lookup = remove_int_columns(pd.read_csv(\"../database/latest/factors.csv\", index_col=\"id\"))\n",
    "injury_lookup = remove_int_columns(pd.read_csv(\"../database/latest/injuries.csv\", index_col=\"id\"))\n",
    "\n",
    "causes = accident_cause.join(cause_lookup, how='left', on='cause_id')\n",
    "factors = accident_factor.join(factor_lookup, how='left', on='factor_id')\n",
    "injuries = accident_injury.join(injury_lookup, how='left', on='injury_id')"
   ]
  },
  {
   "cell_type": "markdown",
   "metadata": {},
   "source": [
    "## Time series"
   ]
  },
  {
   "cell_type": "code",
   "execution_count": 66,
   "metadata": {},
   "outputs": [],
   "source": [
    "ts = accident.copy()\n",
    "ts['accident_date'] = pd.to_datetime(ts['accident_date'], format='%Y-%m-%d')\n",
    "ts = ts.dropna(subset = ['accident_date'])\n",
    "ts = ts.sort_values('accident_date')\n",
    "\n",
    "# there are a few accidents with typos in the dates (e.g., \"2089\")\n",
    "ts = ts[~(ts['accident_date'] > retrieval_date)]"
   ]
  },
  {
   "cell_type": "code",
   "execution_count": 80,
   "metadata": {},
   "outputs": [],
   "source": [
    "year_ts = ts.groupby(pd.Grouper(key = 'accident_date', freq='Y')).count()['victim_name']\n",
    "year_ts.index.name = ''\n",
    "year_ts.name = 'Count'"
   ]
  },
  {
   "cell_type": "code",
   "execution_count": 154,
   "metadata": {},
   "outputs": [],
   "source": [
    "def timeseries_bar_plot(years, values, title=\"\"):\n",
    "    \n",
    "    fig = plt.figure(figsize=(16,4))\n",
    "    ax = fig.add_axes([0,0,1,1])\n",
    "\n",
    "    ax.bar(years, values, width=0.96, color='#aaaaaa')\n",
    "\n",
    "    ax.tick_params(axis='y', labelsize=16, length=0, pad=10)\n",
    "    ax.tick_params(axis='x', labelsize=18, length=0, pad=10)\n",
    "\n",
    "    ax.spines['top'].set_visible(False)\n",
    "    ax.spines['right'].set_visible(False)\n",
    "    ax.spines['left'].set_visible(False)\n",
    "    ax.spines['bottom'].set_visible(True)\n",
    "\n",
    "    ax.grid(axis='x', color='#dddddd', linewidth=2)\n",
    "    ax.set_axisbelow(True)\n",
    "    ax.set_xlim([1974, 2020.5])\n",
    "    ax.set_ylim([0, 130])\n",
    "\n",
    "    ax.set_title(title, fontsize=36, fontweight='bold', loc='left', pad=20)\n",
    "    \n",
    "    sources_text = (\n",
    "        f\"Source: American Whitewater Accident Database retrieved on {retrieval_date.strftime('%b %d, %Y')}\"\n",
    "    )\n",
    "    plt.figtext(0.0, -0.15, sources_text, ha=\"left\", va='top', fontsize=12, linespacing=1.5, color='#555555')\n",
    "    \n",
    "    return fig"
   ]
  },
  {
   "cell_type": "code",
   "execution_count": 159,
   "metadata": {},
   "outputs": [
    {
     "data": {
      "image/png": "[encoded data removed]",
      "text/plain": [
       "<Figure size 1152x288 with 1 Axes>"
      ]
     },
     "metadata": {
      "needs_background": "light"
     },
     "output_type": "display_data"
    }
   ],
   "source": [
    "ts_plot = timeseries_bar_plot(year_ts.index.year, year_ts.values, title=\"Number of accidents per year in the database\")"
   ]
  },
  {
   "cell_type": "code",
   "execution_count": 160,
   "metadata": {},
   "outputs": [
    {
     "name": "stdout",
     "output_type": "stream",
     "text": [
      "Saving PNG ../outputs/latest-ts-count.png\n"
     ]
    }
   ],
   "source": [
    "save_png(ts_plot, \"../outputs/latest-ts-count.png\")"
   ]
  },
  {
   "cell_type": "code",
   "execution_count": null,
   "metadata": {},
   "outputs": [],
   "source": []
  }
 ],
 "metadata": {
  "kernelspec": {
   "display_name": "Python 3",
   "language": "python",
   "name": "python3"
  },
  "language_info": {
   "codemirror_mode": {
    "name": "ipython",
    "version": 3
   },
   "file_extension": ".py",
   "mimetype": "text/x-python",
   "name": "python",
   "nbconvert_exporter": "python",
   "pygments_lexer": "ipython3",
   "version": "3.9.1"
  }
 },
 "nbformat": 4,
 "nbformat_minor": 4
}
