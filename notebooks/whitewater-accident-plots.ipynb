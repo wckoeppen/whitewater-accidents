{
 "cells": [
  {
   "cell_type": "markdown",
   "metadata": {},
   "source": [
    "# Plot Whitewater Accidents\n",
    "\n",
    "A static dataset was exported from the database on February 3, 2021. A fresh export can be gotten at this link:\n",
    "https://www.americanwhitewater.org/content/Accident/export-db/\n",
    "\n",
    "The export service passes back the following\n",
    "\n",
    "```\n",
    "- accident.zip\n",
    "    - tmp\n",
    "        - accidentGgcRaI.dir\n",
    "            - accidents.csv\n",
    "            - accident_causes.csv\n",
    "            - accidents_factors.csv\n",
    "            - causes.csv\n",
    "            - factors.csv\n",
    "            - injuries.csv\n",
    "```"
   ]
  },
  {
   "cell_type": "code",
   "execution_count": null,
   "metadata": {},
   "outputs": [],
   "source": []
  }
 ],
 "metadata": {
  "kernelspec": {
   "display_name": "Python 3",
   "language": "python",
   "name": "python3"
  },
  "language_info": {
   "codemirror_mode": {
    "name": "ipython",
    "version": 3
   },
   "file_extension": ".py",
   "mimetype": "text/x-python",
   "name": "python",
   "nbconvert_exporter": "python",
   "pygments_lexer": "ipython3",
   "version": "3.9.1"
  }
 },
 "nbformat": 4,
 "nbformat_minor": 4
}
